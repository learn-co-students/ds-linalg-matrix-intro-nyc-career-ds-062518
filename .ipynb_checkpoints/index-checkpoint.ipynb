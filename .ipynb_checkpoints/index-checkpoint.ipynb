{
 "cells": [
  {
   "cell_type": "markdown",
   "metadata": {},
   "source": [
    "# Representing Data as Matrices\n",
    "\n",
    "![](./images/Matrix.svg.png)"
   ]
  },
  {
   "cell_type": "markdown",
   "metadata": {},
   "source": [
    "### Numpy and Matrices\n",
    "The numpy package will provide you a great toolbox of optimized mathematical operations including the numpy array, the most convenient way to store vector and matrix data for computation. Here, we'll look at some basic operations in numpy."
   ]
  },
  {
   "cell_type": "code",
   "execution_count": 1,
   "metadata": {},
   "outputs": [],
   "source": [
    "import numpy as np"
   ]
  },
  {
   "cell_type": "code",
   "execution_count": 2,
   "metadata": {},
   "outputs": [
    {
     "name": "stdout",
     "output_type": "stream",
     "text": [
      "A: [[9 5 1 3]\n",
      " [8 7 8 7]\n",
      " [8 8 0 6]]\n",
      "\n",
      "\n",
      "B: [[3 2 7 8]\n",
      " [8 0 9 3]\n",
      " [0 5 7 4]]\n",
      "\n",
      "\n",
      "\n",
      "x: [-0.35576473 -1.01686544  1.52588145 -1.21832388]\n",
      "\n",
      "\n",
      "\n",
      "y: [ 0.39919669  0.69873613 -0.49478598  1.13799641 -0.07052288]\n"
     ]
    }
   ],
   "source": [
    "A = np.array([np.random.randint(0,10) for i in range(12)]).reshape((3,4)) #Create a 3x4 matrix with random integers 0-9\n",
    "B = np.array([np.random.randint(0,10) for i in range(12)]).reshape((3,4)) #Create a 3x4 matrix with random integers 0-9\n",
    "\n",
    "x = np.random.randn(4) #An array of 4 samples from the standard normal distribution\n",
    "y = np.random.randn(5) #An array of 5 samples from the standard normal distribution\n",
    "\n",
    "print('A: {}'.format(A))\n",
    "print('\\n')\n",
    "print('B: {}'.format(B))\n",
    "\n",
    "print('\\n\\n')\n",
    "print('x: {}'.format(x))\n",
    "print('\\n\\n')\n",
    "print('y: {}'.format(y))"
   ]
  },
  {
   "cell_type": "code",
   "execution_count": 3,
   "metadata": {},
   "outputs": [
    {
     "name": "stdout",
     "output_type": "stream",
     "text": [
      "A+B:\n",
      " [[12  7  8 11]\n",
      " [16  7 17 10]\n",
      " [ 8 13  7 10]] \n",
      "\n",
      "\n",
      "A-B:\n",
      " [[ 6  3 -6 -5]\n",
      " [ 0  7 -1  4]\n",
      " [ 8  3 -7  2]] \n",
      "\n",
      "\n",
      "Be careful! This is not standarad matrix multiplication!\n",
      "A*B:\n",
      " [[27 10  7 24]\n",
      " [64  0 72 21]\n",
      " [ 0 40  0 24]] \n",
      "\n",
      "\n",
      "A/B:\n",
      " [[3.         2.5        0.14285714 0.375     ]\n",
      " [1.                inf 0.88888889 2.33333333]\n",
      " [       inf 1.6        0.         1.5       ]] \n",
      "\n",
      "\n",
      "A*x:\n",
      " [[-3.20188254 -5.08432721  1.52588145 -3.65497165]\n",
      " [-2.84611781 -7.1180581  12.20705163 -8.52826718]\n",
      " [-2.84611781 -8.13492354  0.         -7.30994329]] \n",
      "\n",
      "\n",
      "A.T:\n",
      " [[9 8 8]\n",
      " [5 7 8]\n",
      " [1 8 0]\n",
      " [3 7 6]] \n",
      "\n",
      "\n",
      "x.T:\n",
      " [-0.35576473 -1.01686544  1.52588145 -1.21832388] \n",
      "\n",
      "\n"
     ]
    },
    {
     "name": "stderr",
     "output_type": "stream",
     "text": [
      "/anaconda3/lib/python3.6/site-packages/ipykernel_launcher.py:5: RuntimeWarning: divide by zero encountered in true_divide\n",
      "  \"\"\"\n"
     ]
    }
   ],
   "source": [
    "print('A+B:\\n', A+B, '\\n\\n') # matrix addition\n",
    "print('A-B:\\n', A-B, '\\n\\n') # matrix subtraction\n",
    "print('Be careful! This is not standarad matrix multiplication!')\n",
    "print('A*B:\\n', A*B, '\\n\\n') # ELEMENTWISE multiplication\n",
    "print('A/B:\\n', A/B, '\\n\\n') # ELEMENTWISE division\n",
    "\n",
    "\n",
    "print('A*x:\\n', A*x, '\\n\\n') # multiply columns by x\n",
    "print('A.T:\\n', A.T, '\\n\\n') # transpose (just changes row/column ordering)\n",
    "print('x.T:\\n', x.T, '\\n\\n') # does nothing (can't transpose 1D array)"
   ]
  },
  {
   "cell_type": "markdown",
   "metadata": {},
   "source": [
    "### 1. Generating Test Data\n",
    "Generate two matrices of random data, A and B.  \n",
    "Make matrix A a 3x4 matrix, and make B 4x4 matrix. Print both.\n",
    "\n",
    "Calculate and print the following:\n",
    "* $A^T$\n",
    "* $B^T$\n",
    "* AB\n",
    "* $AB^T$\n",
    "* $BA^T$"
   ]
  },
  {
   "cell_type": "code",
   "execution_count": 5,
   "metadata": {},
   "outputs": [
    {
     "name": "stdout",
     "output_type": "stream",
     "text": [
      "A : [[1 6 3 2]\n",
      " [1 1 7 8]\n",
      " [1 3 5 8]]\n",
      "B : [[6 7 4 6]\n",
      " [4 4 3 0]\n",
      " [3 8 8 5]\n",
      " [9 0 4 0]]\n"
     ]
    }
   ],
   "source": [
    "A = np.array([np.random.randint(0,10) for i in range(12)]).reshape((3,4)) #Your code goes here\n",
    "B = np.array([np.random.randint(0,10) for i in range(16)]).reshape((4,4)) #Your code goes here\n",
    "print('A :', A)\n",
    "print('B :', B)"
   ]
  },
  {
   "cell_type": "code",
   "execution_count": 7,
   "metadata": {},
   "outputs": [
    {
     "name": "stdout",
     "output_type": "stream",
     "text": [
      "Transpose of B: [[6 4 3 9]\n",
      " [7 4 8 0]\n",
      " [4 3 8 4]\n",
      " [6 0 5 0]]\n"
     ]
    }
   ],
   "source": [
    "transpose_of_b = B.transpose()#Your answer goes here\n",
    "print('Transpose of B: {}'.format(transpose_of_b))"
   ]
  },
  {
   "cell_type": "code",
   "execution_count": 12,
   "metadata": {},
   "outputs": [
    {
     "name": "stdout",
     "output_type": "stream",
     "text": [
      "AB: [[ 57  55  54  21]\n",
      " [103  67  95  41]\n",
      " [105  59  85  31]]\n",
      "AB^T: [[ 72  37  85  21]\n",
      " [ 89  29 107  37]\n",
      " [ 95  31 107  29]]\n",
      "BA^T: [[ 72  89  95]\n",
      " [ 37  29  31]\n",
      " [ 85 107 107]\n",
      " [ 21  37  29]]\n"
     ]
    }
   ],
   "source": [
    "print('AB:',np.matmul(A,B)  ) #Your code goes here\n",
    "print('AB^T:',np.matmul(A,B.transpose()) ) #Your code goes here\n",
    "print('BA^T:',np.matmul(B,A.transpose())) #Your code goes here"
   ]
  },
  {
   "cell_type": "markdown",
   "metadata": {},
   "source": [
    "#### 2. Describe what happens when you take the transpose of a matrix."
   ]
  },
  {
   "cell_type": "markdown",
   "metadata": {},
   "source": [
    "Describe the transpose of a matrix here."
   ]
  },
  {
   "cell_type": "markdown",
   "metadata": {},
   "source": [
    "### Systems of Equations\n",
    "If you recall from your earlier life as a algebra student:\n",
    "\n",
    "$2x +10 = 18$ has a unique solution; one variable, one equation, one solution\n",
    "\n",
    "Similarly, two variables with two equations has one solution*   \n",
    "$x+y=4$  \n",
    "$2x+2y=10$\n",
    "\n",
    "However, if we allow 2 variables with only 1 equation, we can have infinite solutions.\n",
    "$x+y=4$\n",
    "\n",
    "*(An inconsistent system will have no solution and a system where the second equation is a multiple of the first will have infinite solutions)"
   ]
  },
  {
   "cell_type": "markdown",
   "metadata": {},
   "source": [
    "### 3. Representing Data as Matrices"
   ]
  },
  {
   "cell_type": "markdown",
   "metadata": {},
   "source": [
    "#### A. Write a Matrix to represent this system:   \n",
    "$x+y=4$  \n",
    "$2x+2y=10$"
   ]
  },
  {
   "cell_type": "code",
   "execution_count": 13,
   "metadata": {},
   "outputs": [],
   "source": [
    "#Your matrix goes here\n",
    "A = A = np.array([[1,1,4],\n",
    "     [2,2,10]\n",
    "    ])"
   ]
  },
  {
   "cell_type": "markdown",
   "metadata": {},
   "source": [
    "#### B. Multiply your matrix by 3. What is the resulting system of equations? "
   ]
  },
  {
   "cell_type": "code",
   "execution_count": 15,
   "metadata": {},
   "outputs": [
    {
     "data": {
      "text/plain": [
       "array([[ 3,  3, 12],\n",
       "       [ 6,  6, 30]])"
      ]
     },
     "execution_count": 15,
     "metadata": {},
     "output_type": "execute_result"
    }
   ],
   "source": [
    "A * 3 #Multiplying Matrix Here"
   ]
  },
  {
   "cell_type": "markdown",
   "metadata": {},
   "source": [
    "## Write the resulting system here  \n",
    "$3x+3y=12$  \n",
    "$6x+6y=30$"
   ]
  },
  {
   "cell_type": "markdown",
   "metadata": {},
   "source": [
    "### The Identity Matrix\n",
    "The identity Matrix has ones running along the diagonal, and zeros everywhere else.\n",
    "You can create an identity matrix of any given size by calling the built in numpy method:\n",
    "numpy.identity(n) where n is the dimension of the desired matrix."
   ]
  },
  {
   "cell_type": "code",
   "execution_count": 16,
   "metadata": {
    "scrolled": true
   },
   "outputs": [
    {
     "data": {
      "text/plain": [
       "array([[1., 0., 0., 0., 0.],\n",
       "       [0., 1., 0., 0., 0.],\n",
       "       [0., 0., 1., 0., 0.],\n",
       "       [0., 0., 0., 1., 0.],\n",
       "       [0., 0., 0., 0., 1.]])"
      ]
     },
     "execution_count": 16,
     "metadata": {},
     "output_type": "execute_result"
    }
   ],
   "source": [
    "np.identity(5)"
   ]
  },
  {
   "cell_type": "markdown",
   "metadata": {},
   "source": [
    "### 4. Multiply a matrix by the identity matrix. What do you notice? Explain why this happens."
   ]
  },
  {
   "cell_type": "code",
   "execution_count": 19,
   "metadata": {},
   "outputs": [
    {
     "data": {
      "text/plain": [
       "array([[ 1.,  1.,  4.],\n",
       "       [ 2.,  2., 10.]])"
      ]
     },
     "execution_count": 19,
     "metadata": {},
     "output_type": "execute_result"
    }
   ],
   "source": [
    "np.matmul(A,np.identity(3))#Multiply a matrix by the identity matrix here."
   ]
  },
  {
   "cell_type": "markdown",
   "metadata": {},
   "source": [
    "#Write your observations and explanation here."
   ]
  },
  {
   "cell_type": "code",
   "execution_count": null,
   "metadata": {},
   "outputs": [],
   "source": []
  }
 ],
 "metadata": {
  "kernelspec": {
   "display_name": "Python 3",
   "language": "python",
   "name": "python3"
  },
  "language_info": {
   "codemirror_mode": {
    "name": "ipython",
    "version": 3
   },
   "file_extension": ".py",
   "mimetype": "text/x-python",
   "name": "python",
   "nbconvert_exporter": "python",
   "pygments_lexer": "ipython3",
   "version": "3.6.5"
  }
 },
 "nbformat": 4,
 "nbformat_minor": 2
}
